{
  "cells": [
    {
      "cell_type": "markdown",
      "metadata": {},
      "source": [
        "# Technical Challenge - Early Bark Beetle Detection Demo\n",
        "\n",
        "Ce notebook démontre l'utilisation du pipeline de détection précoce des perturbations forestières avec un focus sur les épidémies de scolytes.\n",
        "\n",
        "## Objectifs du Notebook\n",
        "\n",
        "1. **Exécution d'inférence sur la ROI**\n",
        "2. **Visualisation des prédictions de perturbation**\n",
        "3. **Estimation du timing des perturbations avec ruptures**\n",
        "4. **Utilisation des données ERA5 pour séparer vent vs scolytes**\n",
        "5. **Évaluation de la précision/rappel et délai de détection**\n"
      ]
    },
    {
      "cell_type": "code",
      "execution_count": null,
      "metadata": {},
      "outputs": [],
      "source": [
        "# Import des bibliothèques nécessaires\n",
        "import sys\n",
        "import os\n",
        "sys.path.append('../../')\n",
        "\n",
        "import yaml\n",
        "import numpy as np\n",
        "import pandas as pd\n",
        "import matplotlib.pyplot as plt\n",
        "import seaborn as sns\n",
        "import geopandas as gpd\n",
        "import folium\n",
        "from pathlib import Path\n",
        "import warnings\n",
        "warnings.filterwarnings('ignore')\n",
        "\n",
        "# Configuration du style des graphiques\n",
        "plt.style.use('seaborn-v0_8')\n",
        "sns.set_palette(\"husl\")\n",
        "\n",
        "print(\"✅ Bibliothèques importées avec succès\")\n"
      ]
    },
    {
      "cell_type": "code",
      "execution_count": null,
      "metadata": {},
      "outputs": [],
      "source": [
        "# Chargement de la configuration\n",
        "config_path = Path('../../configs/config_test.yaml')\n",
        "with open(config_path, 'r', encoding='utf-8') as f:\n",
        "    config = yaml.safe_load(f)\n",
        "\n",
        "print(\"📋 Configuration chargée:\")\n",
        "print(f\"  - ROI: {config['roi']['geojson_path']}\")\n",
        "print(f\"  - Période: {config['date_range']['start']} à {config['date_range']['end']}\")\n",
        "print(f\"  - Bandes Sentinel-2: {config['sentinel2']['bands']}\")\n",
        "print(f\"  - Seuils de vent: {config['wind_analysis']['wind_thresholds']}\")\n"
      ]
    },
    {
      "cell_type": "markdown",
      "metadata": {},
      "source": [
        "## 1. Exécution d'Inférence sur la ROI\n",
        "\n",
        "Exécutons le pipeline complet pour analyser la région d'intérêt.\n"
      ]
    },
    {
      "cell_type": "code",
      "execution_count": null,
      "metadata": {},
      "outputs": [],
      "source": []
    },
    {
      "cell_type": "markdown",
      "metadata": {},
      "source": [
        "\n"
      ]
    },
    {
      "cell_type": "code",
      "execution_count": null,
      "metadata": {},
      "outputs": [],
      "source": [
        "# Chargement des résultats de détection\n",
        "results_dir = Path('../../results')\n",
        "detections_dir = results_dir / 'detections'\n",
        "\n",
        "print(\"📁 Répertoires de résultats:\")\n",
        "for subdir in results_dir.iterdir():\n",
        "    if subdir.is_dir():\n",
        "        print(f\"  - {subdir.name}: {len(list(subdir.rglob('*')))} fichiers\")\n",
        "\n",
        "# Vérifier les masques de détection\n",
        "if detections_dir.exists():\n",
        "    print(f\"\\n🔍 Masques de détection disponibles:\")\n",
        "    for mask_file in detections_dir.glob('*.tif'):\n",
        "        print(f\"  - {mask_file.name}\")\n",
        "else:\n",
        "    print(\"⚠️ Aucun masque de détection trouvé\")\n"
      ]
    },
    {
      "cell_type": "code",
      "execution_count": null,
      "metadata": {},
      "outputs": [],
      "source": [
        "# Visualisation des masques de détection\n",
        "import rasterio\n",
        "import matplotlib.patches as patches\n",
        "\n",
        "def plot_detection_masks(detections_dir):\n",
        "    \"\"\"Visualiser les masques de détection\"\"\"\n",
        "    if not detections_dir.exists():\n",
        "        print(\"⚠️ Aucun masque de détection à visualiser\")\n",
        "        return\n",
        "    \n",
        "    # Trouver les fichiers de masques\n",
        "    mask_files = list(detections_dir.glob('*.tif'))\n",
        "    if not mask_files:\n",
        "        print(\"⚠️ Aucun fichier .tif trouvé\")\n",
        "        return\n",
        "    \n",
        "    # Créer la figure\n",
        "    n_masks = len(mask_files)\n",
        "    fig, axes = plt.subplots(2, 2, figsize=(15, 12))\n",
        "    axes = axes.flatten()\n",
        "    \n",
        "    for i, mask_file in enumerate(mask_files[:4]):  # Limiter à 4 masques\n",
        "        try:\n",
        "            with rasterio.open(mask_file) as src:\n",
        "                data = src.read(1)\n",
        "                transform = src.transform\n",
        "                \n",
        "                # Créer l'image\n",
        "                im = axes[i].imshow(data, cmap='viridis', aspect='equal')\n",
        "                axes[i].set_title(f'{mask_file.stem}', fontsize=12, fontweight='bold')\n",
        "                axes[i].set_xlabel('Pixels X')\n",
        "                axes[i].set_ylabel('Pixels Y')\n",
        "                \n",
        "                # Ajouter la colorbar\n",
        "                plt.colorbar(im, ax=axes[i], shrink=0.8)\n",
        "                \n",
        "        except Exception as e:\n",
        "            axes[i].text(0.5, 0.5, f'Erreur:\\n{str(e)[:50]}...', \n",
        "                        ha='center', va='center', transform=axes[i].transAxes)\n",
        "            axes[i].set_title(f'{mask_file.stem} (Erreur)')\n",
        "    \n",
        "    # Masquer les axes inutilisés\n",
        "    for i in range(len(mask_files), 4):\n",
        "        axes[i].set_visible(False)\n",
        "    \n",
        "    plt.tight_layout()\n",
        "    plt.suptitle('Masques de Détection de Changements', fontsize=16, y=1.02)\n",
        "    plt.show()\n",
        "\n",
        "# Exécuter la visualisation\n",
        "plot_detection_masks(detections_dir)\n"
      ]
    },
    {
      "cell_type": "markdown",
      "metadata": {},
      "source": [
        "## 3. Estimation du Timing des Perturbations avec Ruptures\n",
        "\n",
        "Analyse de la précision temporelle de la détection des changements.\n"
      ]
    },
    {
      "cell_type": "code",
      "execution_count": null,
      "metadata": {},
      "outputs": [],
      "source": [
        "# Analyse du timing des perturbations\n",
        "def analyze_timing_precision(detections_dir):\n",
        "    \"\"\"Analyser la précision temporelle des détections\"\"\"\n",
        "    \n",
        "    # Charger les données de timing si disponibles\n",
        "    timing_file = detections_dir / 'ruptures_first_change.tif'\n",
        "    if not timing_file.exists():\n",
        "        print(\"⚠️ Fichier de timing non trouvé\")\n",
        "        return\n",
        "    \n",
        "    try:\n",
        "        with rasterio.open(timing_file) as src:\n",
        "            timing_data = src.read(1)\n",
        "            \n",
        "        # Statistiques de timing\n",
        "        valid_times = timing_data[timing_data > 0]\n",
        "        \n",
        "        if len(valid_times) == 0:\n",
        "            print(\"⚠️ Aucune détection de timing valide\")\n",
        "            return\n",
        "        \n",
        "        print(\"📅 Analyse de la précision temporelle:\")\n",
        "        print(f\"  - Nombre de pixels avec changements: {len(valid_times)}\")\n",
        "        print(f\"  - Timing moyen: {np.mean(valid_times):.2f} jours\")\n",
        "        print(f\"  - Timing médian: {np.median(valid_times):.2f} jours\")\n",
        "        print(f\"  - Écart-type: {np.std(valid_times):.2f} jours\")\n",
        "        print(f\"  - Timing min: {np.min(valid_times):.2f} jours\")\n",
        "        print(f\"  - Timing max: {np.max(valid_times):.2f} jours\")\n",
        "        \n",
        "        # Visualisation de la distribution\n",
        "        plt.figure(figsize=(12, 5))\n",
        "        \n",
        "        plt.subplot(1, 2, 1)\n",
        "        plt.hist(valid_times, bins=30, alpha=0.7, color='skyblue', edgecolor='black')\n",
        "        plt.xlabel('Timing du changement (jours)')\n",
        "        plt.ylabel('Fréquence')\n",
        "        plt.title('Distribution du Timing des Changements')\n",
        "        plt.grid(True, alpha=0.3)\n",
        "        \n",
        "        plt.subplot(1, 2, 2)\n",
        "        plt.boxplot(valid_times, patch_artist=True, \n",
        "                   boxprops=dict(facecolor='lightgreen', alpha=0.7))\n",
        "        plt.ylabel('Timing du changement (jours)')\n",
        "        plt.title('Boxplot du Timing des Changements')\n",
        "        plt.grid(True, alpha=0.3)\n",
        "        \n",
        "        plt.tight_layout()\n",
        "        plt.show()\n",
        "        \n",
        "    except Exception as e:\n",
        "        print(f\"❌ Erreur lors de l'analyse du timing: {e}\")\n",
        "\n",
        "# Exécuter l'analyse\n",
        "analyze_timing_precision(detections_dir)\n"
      ]
    },
    {
      "cell_type": "markdown",
      "metadata": {},
      "source": [
        "# Technical Test - Early Bark Beetle Detection with Sentinel Data\n",
        "\n",
        "## Démonstration du Pipeline Complet\n",
        "\n",
        "Ce notebook démontre l'utilisation du pipeline modulaire pour la détection précoce des perturbations forestières avec focus sur les épidémies de scolytes.\n"
      ]
    },
    {
      "cell_type": "code",
      "execution_count": null,
      "metadata": {},
      "outputs": [],
      "source": [
        "\n"
      ]
    }
  ],
  "metadata": {
    "language_info": {
      "name": "python"
    }
  },
  "nbformat": 4,
  "nbformat_minor": 2
}
